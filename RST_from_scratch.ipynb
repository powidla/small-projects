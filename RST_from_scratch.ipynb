{
  "nbformat": 4,
  "nbformat_minor": 0,
  "metadata": {
    "colab": {
      "provenance": []
    },
    "kernelspec": {
      "name": "python3",
      "display_name": "Python 3"
    },
    "language_info": {
      "name": "python"
    }
  },
  "cells": [
    {
      "cell_type": "code",
      "execution_count": 42,
      "metadata": {
        "id": "6375RGpHTof_"
      },
      "outputs": [],
      "source": [
        "from itertools import combinations\n",
        "import matplotlib.pyplot as plt\n",
        "from matplotlib import style\n",
        "import pandas as pd\n",
        "import numpy as np\n",
        "import time\n",
        "from datetime import datetime\n",
        "import openpyxl\n",
        "from sklearn.base import BaseEstimator\n",
        "from sklearn.feature_selection import SelectorMixin\n",
        "from sklearn.metrics import mean_absolute_error"
      ]
    },
    {
      "cell_type": "markdown",
      "source": [
        "Два класса для написания алгоритма. Указаны функции вычисляющие верхнюю и нижнюю границы для аппроксимации. "
      ],
      "metadata": {
        "id": "wdU3tl9S820s"
      }
    },
    {
      "cell_type": "code",
      "source": [
        "class RoughSetsReducer:\n",
        "\n",
        "    def __size(self, x):\n",
        "        return (1, x.shape[0]) if x.ndim == 1 else x.shape\n",
        "\n",
        "    '''\n",
        "    Вычисляется отношение неразличимости\n",
        "    '''\n",
        "    def indisc(self, a, x):\n",
        "\n",
        "        def codea(a, x, b):\n",
        "            yy = 0\n",
        "            for i in range(0, a):\n",
        "                yy += x[i] * b**(a-(i+1))\n",
        "            return yy\n",
        "\n",
        "        p, q = self.__size(x)\n",
        "        ap, aq = self.__size(a)\n",
        "        z = [e for e in range(1, q+1)]\n",
        "        tt = np.setdiff1d(z, a)\n",
        "        tt_ind = np.setdiff1d(z, tt)-1\n",
        "        if x.ndim == 1:\n",
        "            x = x[tt_ind]\n",
        "        else:\n",
        "            x = x[:, tt_ind]\n",
        "        y = x\n",
        "        v = [codea(aq, y, 10) for i in range(0, p)] if y.ndim == 1 \\\n",
        "            else [codea(aq, y[i, :], 10) for i in range(0, p)]\n",
        "        y = np.transpose(v)\n",
        "        if y.shape[0] == 1 and len(y.shape) == 1:\n",
        "            I, yy = [1], [y]\n",
        "            y = np.hstack((y, I))\n",
        "            b, k, l = [y], [1], [1]\n",
        "        else:\n",
        "            ax = 1 if y.ndim > 1 else 0\n",
        "            yy = np.sort(y, axis=ax)\n",
        "            I = y.argsort(axis=ax)\n",
        "            y = np.hstack((yy, I))\n",
        "            b, k, l = np.unique(yy, return_index=True, return_inverse=True)\n",
        "        y = np.hstack((l, I))\n",
        "        m = np.max(l)\n",
        "        aa = np.zeros((m+1, p), dtype=int)\n",
        "        for ii in range(0, m+1):\n",
        "            for j in range(0, p):\n",
        "                if l[j] == ii:\n",
        "                    aa[ii, j] = I[j]+1\n",
        "        return aa\n",
        "\n",
        "    '''\n",
        "    Вычисляется нижняя граница аппроксимации для y\n",
        "    '''\n",
        "    def rslower(self, y, a, T):\n",
        "        z = self.indisc(a, T)\n",
        "        w = []\n",
        "        p, q = self.__size(z)\n",
        "        for u in range(0, p):\n",
        "            zz = np.setdiff1d(z[u, :], 0)\n",
        "            if np.in1d(zz, y).all():\n",
        "                w = np.hstack((w, zz))\n",
        "        print(\"Вычисляется нихняя граница:\")\n",
        "        return w.astype(dtype=int)\n",
        "        print(w.astype(dtype=int))\n",
        "\n",
        "    '''\n",
        "    Вычисляется верхняя граница аппроксимации для y\n",
        "    '''\n",
        "    def rsupper(self, y, a, T):\n",
        "        z = self.indisc(a, T)\n",
        "        w = []\n",
        "        p, q = self.__size(z)\n",
        "        for u in range(0, p):\n",
        "            zz = np.setdiff1d(z[u, :], 0)\n",
        "            zzz = np.intersect1d(zz, y)\n",
        "            if len(zzz) > 0:\n",
        "                w = np.hstack((w, zz))\n",
        "        print(\"Вычисляется верхняя граница:\")\n",
        "        return w.astype(dtype=int)\n",
        "        print(w.astype(dtype=int))\n",
        "\n",
        "\n",
        "    def __pospq(self, p, q):\n",
        "        pm, pn = self.__size(p)\n",
        "        qm, qn = self.__size(q)\n",
        "        num = 0\n",
        "        pp, qq = [[]] * pm, [[]] * qm\n",
        "        for i in range(0, pm):\n",
        "            pp[i] = np.unique(p[i, :])\n",
        "        for j in range(0, qm):\n",
        "            qq[j] = np.unique(q[j, :])\n",
        "        b = []\n",
        "        for i in range(0, qm):\n",
        "            for j in range(0, pm):\n",
        "                if np.in1d(pp[j], qq[i]).all():\n",
        "                    num += 1\n",
        "                    b = np.hstack((b, pp[j]))\n",
        "        bb = np.unique(b)\n",
        "        if bb.size == 0:\n",
        "            dd = 1\n",
        "        else:\n",
        "            _, dd = self.__size(bb)\n",
        "        y = float(dd - 1)/pn if 0 in bb else float(dd)/pn\n",
        "        b = np.setdiff1d(bb, 0)\n",
        "        return y, b\n",
        "\n",
        "    '''\n",
        "    Перевод множеств C и D\n",
        "    '''\n",
        "    def core(self, C, D):\n",
        "        x = np.hstack((C, D))\n",
        "        c = np.array(range(1, C.shape[1]+1))\n",
        "        d = np.array([C.shape[1]+1])\n",
        "        cp, cq = self.__size(c)\n",
        "        q = self.indisc(d, x)\n",
        "        pp = self.indisc(c, x)\n",
        "        b, w = self.__pospq(pp, q)\n",
        "        a, k, kk, p = ([[]] * cq for i in range(4))\n",
        "        y = []\n",
        "        for u in range(0, cq):\n",
        "            ind = u+1\n",
        "            a[u] = np.setdiff1d(c, ind)\n",
        "            p[u] = self.indisc(a[u], x)\n",
        "            k[u], kk[u] = self.__pospq(p[u], q)\n",
        "            if k[u] != b:\n",
        "                y = np.hstack((y, ind))\n",
        "        return np.array(y)\n",
        "\n",
        "    def __sgf(self, a, r, d, x):\n",
        "        pr = self.indisc(r, x)\n",
        "        q = self.indisc(d, x)\n",
        "        b = np.hstack((r, a))\n",
        "        pb = self.indisc(b, x)\n",
        "        p1, _ = self.__pospq(pb, q)\n",
        "        p2, _ = self.__pospq(pr, q)\n",
        "        return p1 - p2\n",
        "\n",
        "    '''\n",
        "    Уменьшение размерности\n",
        "    '''\n",
        "    def reduce(self, C, D):\n",
        "\n",
        "        def redu2(i, re, c, d, x):\n",
        "            yre = re\n",
        "            re1, re2 = self.__size(re)\n",
        "            q = self.indisc(d, x)\n",
        "            p = self.indisc(c, x)\n",
        "            pos_cd, _ = self.__pospq(p, q)\n",
        "            y, j = None, None\n",
        "            for qi in range(i, re2):\n",
        "                re = np.setdiff1d(re, re[qi])\n",
        "                red = self.indisc(re, x)\n",
        "                pos_red, _ = self.__pospq(red, q)\n",
        "                if np.array_equal(pos_cd, pos_red):\n",
        "                    y = re\n",
        "                    j = i\n",
        "                    break\n",
        "                else:\n",
        "                    y = yre\n",
        "                    j = i + 1\n",
        "                    break\n",
        "            return y, j\n",
        "\n",
        "        x = np.hstack((C, D))\n",
        "        c = np.array(range(1, C.shape[1]+1))\n",
        "        d = np.array([C.shape[1]+1])\n",
        "        y = self.core(C, D)\n",
        "        q = self.indisc(d, x)\n",
        "        p = self.indisc(c, x)\n",
        "        pos_cd, _ = self.__pospq(p, q)\n",
        "        re = y\n",
        "        red = self.indisc(y, x)\n",
        "        pos_red, _ = self.__pospq(red, q)\n",
        "        while pos_cd != pos_red:\n",
        "            cc = np.setdiff1d(c, re)\n",
        "            c1, c2 = self.__size(cc)\n",
        "            yy = [0] * c2\n",
        "            for i in range(0, c2):\n",
        "                yy[i] = self.__sgf(cc[i], re, d, x)\n",
        "            cd = np.setdiff1d(c, y)\n",
        "            d1, d2 = self.__size(cd)\n",
        "            for i in range(d2, c2, -1):\n",
        "                yy[i] = []\n",
        "            ii = np.argsort(yy)\n",
        "            for v1 in range(c2-1, -1, -1):\n",
        "                v2 = ii[v1]\n",
        "                re = np.hstack((re, cc[v2]))\n",
        "                red = self.indisc(re, x)\n",
        "                pos_red, _ = self.__pospq(red, q)\n",
        "        re1, re2 = self.__size(re)\n",
        "        core = y\n",
        "        for qi in range(re2-1, -1, -1):\n",
        "            if re[qi] in core:\n",
        "                y = re\n",
        "                break\n",
        "            re = np.setdiff1d(re, re[qi])\n",
        "            red = self.indisc(re, x)\n",
        "            pos_red, _ = self.__pospq(red, q)\n",
        "            if np.array_equal(pos_cd, pos_red):\n",
        "                y = re\n",
        "        y1, y2 = self.__size(y)\n",
        "        j = 0\n",
        "        for i in range(0, y2):\n",
        "            y, j = redu2(j, y, c, d, x)\n",
        "        return y"
      ],
      "metadata": {
        "id": "OayZ5TP-TsGh"
      },
      "execution_count": 18,
      "outputs": []
    },
    {
      "cell_type": "code",
      "source": [
        "class RoughSetsSelector(BaseEstimator, SelectorMixin):\n",
        "\n",
        "    def _get_support_mask(self):\n",
        "        return self.mask_\n",
        "\n",
        "\n",
        "    def fit(self, X, y=None):\n",
        "        reducer = RoughSetsReducer()\n",
        "        selected_ = reducer.reduce(X, y)\n",
        "        B_unique_sorted, B_idx = np.unique(np.array(range(X.shape[1])), return_index=True)\n",
        "        B_unique_sorted = B_unique_sorted + 1\n",
        "        self.mask_ = np.in1d(B_unique_sorted, selected_, assume_unique=True)\n",
        "\n",
        "        if self.mask_.size == 0:\n",
        "            raise ValueError(\"No features were selected by rough sets reducer\")\n",
        "        return self"
      ],
      "metadata": {
        "id": "jz8MqrwfqjdE"
      },
      "execution_count": 37,
      "outputs": []
    },
    {
      "cell_type": "code",
      "source": [
        "def cond_rules(y, X):\n",
        "    for i in range(0, len(y)):\n",
        "      print(\"Если размерности данных совпадают, то\")\n",
        "      print(\"-\"*50)\n",
        "      if len(y) == len(X[i]):\n",
        "        print(\"Тогда можно продолжить вычисление редукции\")\n",
        "        print(\"-\"*50)\n",
        "\n",
        "      else:\n",
        "        print(\"Нельзя продолжить вычисление редукции\")\n",
        "def approx_est(y, X_selected):\n",
        "  '''\n",
        "  Вычисление точности аппроксимации\n",
        "  '''\n",
        "  return mean_absolute_error(y, X_selected.reshape(-1,1)[0:len(y)]) / abs(y).sum() / 100 "
      ],
      "metadata": {
        "id": "AfTZHo_FAFu3"
      },
      "execution_count": 88,
      "outputs": []
    },
    {
      "cell_type": "code",
      "source": [
        "y = np.array([[1, 0, 0, 0, 0, 0, 0, 1, 1, 1, 1, 1]]).T\n",
        "X = np.array([[1, 1, 1, 1, 0, 0, 0, 0, 1, 1, 0, 1],\n",
        "              [0, 0, 0, 0, 0, 0, 0, 0, 0, 0, 0, 0],\n",
        "              [1, 0, 1, 0, 0, 0, 0, 0, 0, 1, 0, 0],\n",
        "              [0, 0, 0, 1, 1, 1, 1, 0, 1, 0, 1, 1],\n",
        "              [1, 0, 0, 1, 1, 1, 1, 1, 0, 1, 1, 0],\n",
        "              [0, 1, 0, 1, 1, 1, 1, 1, 1, 0, 0, 1],\n",
        "              [1, 0, 0, 0, 1, 1, 1, 0, 0, 1, 1, 1],\n",
        "              [1, 1, 1, 1, 0, 0, 0, 0, 1, 1, 0, 1],\n",
        "              [1, 0, 1, 1, 1, 0, 0, 0, 1, 1, 0, 1],\n",
        "              [1, 1, 1, 1, 0, 0, 0, 0, 1, 1, 0, 1],\n",
        "              [1, 0, 1, 1, 1, 0, 0, 0, 1, 1, 0, 1],\n",
        "              [1, 0, 1, 1, 1, 0, 0, 0, 1, 1, 0, 1]])\n",
        "\n",
        "selector = RoughSetsSelector()\n",
        "X_selected = selector.fit(X, y).transform(X)"
      ],
      "metadata": {
        "id": "gwwkT9aRpiCE"
      },
      "execution_count": 38,
      "outputs": []
    },
    {
      "cell_type": "code",
      "source": [
        "len(X[0])"
      ],
      "metadata": {
        "colab": {
          "base_uri": "https://localhost:8080/"
        },
        "id": "5VC2lE6vHUq4",
        "outputId": "1784f03b-dce6-4869-9543-a542f85ffd21"
      },
      "execution_count": 76,
      "outputs": [
        {
          "output_type": "execute_result",
          "data": {
            "text/plain": [
              "12"
            ]
          },
          "metadata": {},
          "execution_count": 76
        }
      ]
    },
    {
      "cell_type": "code",
      "source": [
        "X_selected"
      ],
      "metadata": {
        "colab": {
          "base_uri": "https://localhost:8080/"
        },
        "id": "qdjU-sO2yXjF",
        "outputId": "58ccfddd-0d5e-4e3d-8188-fda7bd54cbf9"
      },
      "execution_count": 39,
      "outputs": [
        {
          "output_type": "execute_result",
          "data": {
            "text/plain": [
              "array([[1, 1],\n",
              "       [0, 0],\n",
              "       [1, 0],\n",
              "       [0, 1],\n",
              "       [0, 1],\n",
              "       [0, 1],\n",
              "       [0, 0],\n",
              "       [1, 1],\n",
              "       [1, 1],\n",
              "       [1, 1],\n",
              "       [1, 1],\n",
              "       [1, 1]])"
            ]
          },
          "metadata": {},
          "execution_count": 39
        }
      ]
    },
    {
      "cell_type": "code",
      "source": [
        "result = pd.DataFrame(X_selected, columns=['upper', 'lower'])\n",
        "result.to_csv(\"result.csv\",index=False)"
      ],
      "metadata": {
        "id": "GYEr2-koyEKr"
      },
      "execution_count": 36,
      "outputs": []
    },
    {
      "cell_type": "markdown",
      "source": [
        "Введите датасет"
      ],
      "metadata": {
        "id": "UP2_azlfxMKY"
      }
    },
    {
      "cell_type": "code",
      "source": [
        "df = pd.read_csv(\"PATH_TO_DATASET\")\n",
        "y = df['target']\n",
        "X = df.drop(['target'], axis=1)"
      ],
      "metadata": {
        "id": "37KBQfgYxB_z"
      },
      "execution_count": null,
      "outputs": []
    },
    {
      "cell_type": "markdown",
      "source": [
        "Просмотр датасета"
      ],
      "metadata": {
        "id": "i8MEwNBbxrV3"
      }
    },
    {
      "cell_type": "code",
      "source": [
        "df.head(5)"
      ],
      "metadata": {
        "id": "ULZBjuXJx2Zj"
      },
      "execution_count": null,
      "outputs": []
    },
    {
      "cell_type": "markdown",
      "source": [
        "Применение алгоритма к датасету"
      ],
      "metadata": {
        "id": "y2BRg_5d9lJq"
      }
    },
    {
      "cell_type": "code",
      "source": [
        "selector = RoughSetsSelector()\n",
        "X_selected = selector.fit(X, y).transform(X)"
      ],
      "metadata": {
        "id": "cWzI93RcyGnD"
      },
      "execution_count": null,
      "outputs": []
    },
    {
      "cell_type": "code",
      "source": [
        "cond_rules(y, X)"
      ],
      "metadata": {
        "colab": {
          "base_uri": "https://localhost:8080/"
        },
        "id": "umMhcmGSHwHy",
        "outputId": "6c76a756-1a3f-4109-874e-9db4da795059"
      },
      "execution_count": 89,
      "outputs": [
        {
          "output_type": "stream",
          "name": "stdout",
          "text": [
            "Если размерности данных совпадают, то\n",
            "--------------------------------------------------\n",
            "Тогда можно продолжить вычисление редукции\n",
            "--------------------------------------------------\n",
            "Если размерности данных совпадают, то\n",
            "--------------------------------------------------\n",
            "Тогда можно продолжить вычисление редукции\n",
            "--------------------------------------------------\n",
            "Если размерности данных совпадают, то\n",
            "--------------------------------------------------\n",
            "Тогда можно продолжить вычисление редукции\n",
            "--------------------------------------------------\n",
            "Если размерности данных совпадают, то\n",
            "--------------------------------------------------\n",
            "Тогда можно продолжить вычисление редукции\n",
            "--------------------------------------------------\n",
            "Если размерности данных совпадают, то\n",
            "--------------------------------------------------\n",
            "Тогда можно продолжить вычисление редукции\n",
            "--------------------------------------------------\n",
            "Если размерности данных совпадают, то\n",
            "--------------------------------------------------\n",
            "Тогда можно продолжить вычисление редукции\n",
            "--------------------------------------------------\n",
            "Если размерности данных совпадают, то\n",
            "--------------------------------------------------\n",
            "Тогда можно продолжить вычисление редукции\n",
            "--------------------------------------------------\n",
            "Если размерности данных совпадают, то\n",
            "--------------------------------------------------\n",
            "Тогда можно продолжить вычисление редукции\n",
            "--------------------------------------------------\n",
            "Если размерности данных совпадают, то\n",
            "--------------------------------------------------\n",
            "Тогда можно продолжить вычисление редукции\n",
            "--------------------------------------------------\n",
            "Если размерности данных совпадают, то\n",
            "--------------------------------------------------\n",
            "Тогда можно продолжить вычисление редукции\n",
            "--------------------------------------------------\n",
            "Если размерности данных совпадают, то\n",
            "--------------------------------------------------\n",
            "Тогда можно продолжить вычисление редукции\n",
            "--------------------------------------------------\n",
            "Если размерности данных совпадают, то\n",
            "--------------------------------------------------\n",
            "Тогда можно продолжить вычисление редукции\n",
            "--------------------------------------------------\n"
          ]
        }
      ]
    },
    {
      "cell_type": "markdown",
      "source": [
        "Вывод точности аппроксимации"
      ],
      "metadata": {
        "id": "eZOM7J70_-Kr"
      }
    },
    {
      "cell_type": "code",
      "source": [
        "np.round(approx_est(y, X_selected),4)"
      ],
      "metadata": {
        "colab": {
          "base_uri": "https://localhost:8080/"
        },
        "id": "TyjUtEAF_-Ty",
        "outputId": "6036c1f4-404e-4d2d-b055-0e4d8da631cb"
      },
      "execution_count": 74,
      "outputs": [
        {
          "output_type": "execute_result",
          "data": {
            "text/plain": [
              "0.0006"
            ]
          },
          "metadata": {},
          "execution_count": 74
        }
      ]
    },
    {
      "cell_type": "markdown",
      "source": [
        "Запись в .csv файл результата исполнения алгоритма"
      ],
      "metadata": {
        "id": "JN7HQJ4g9tAv"
      }
    },
    {
      "cell_type": "code",
      "source": [
        "result = pd.DataFrame(X_selected, columns=['upper', 'lower'])\n",
        "result.to_csv(\"result.csv\",index=False)"
      ],
      "metadata": {
        "id": "wJFHvlJl9tLO"
      },
      "execution_count": null,
      "outputs": []
    },
    {
      "cell_type": "markdown",
      "source": [
        "Пример работы"
      ],
      "metadata": {
        "id": "BFAKOznTEK-3"
      }
    },
    {
      "cell_type": "code",
      "source": [
        "y = np.array([[1, 0, 0, 0, 0, 0, 0, 1, 1, 1, 1, 1]]).T\n",
        "X = np.array([[1, 1, 1, 1, 0, 0, 0, 0, 1, 1, 0, 1],\n",
        "              [0, 0, 0, 0, 0, 0, 0, 0, 0, 0, 0, 0],\n",
        "              [1, 0, 1, 0, 0, 0, 0, 0, 0, 1, 0, 0],\n",
        "              [0, 0, 0, 1, 1, 1, 1, 0, 1, 0, 1, 1],\n",
        "              [1, 0, 0, 1, 1, 1, 1, 1, 0, 1, 1, 0],\n",
        "              [0, 1, 0, 1, 1, 1, 1, 1, 1, 0, 0, 1],\n",
        "              [1, 0, 0, 0, 1, 1, 1, 0, 0, 1, 1, 1],\n",
        "              [1, 1, 1, 1, 0, 0, 0, 0, 1, 1, 0, 1],\n",
        "              [1, 0, 1, 1, 1, 0, 0, 0, 1, 1, 0, 1],\n",
        "              [1, 1, 1, 1, 0, 0, 0, 0, 1, 1, 0, 1],\n",
        "              [1, 0, 1, 1, 1, 0, 0, 0, 1, 1, 0, 1],\n",
        "              [1, 0, 1, 1, 1, 0, 0, 0, 1, 1, 0, 1]])\n",
        "\n",
        "selector = RoughSetsSelector()\n",
        "X_selected = selector.fit(X, y).transform(X)"
      ],
      "metadata": {
        "id": "gMhKQpD99taK"
      },
      "execution_count": 75,
      "outputs": []
    },
    {
      "cell_type": "code",
      "source": [
        "X_selected"
      ],
      "metadata": {
        "id": "-8ekm9wZEOmB"
      },
      "execution_count": null,
      "outputs": []
    },
    {
      "cell_type": "code",
      "source": [
        "np.round(approx_est(y, X_selected),4)"
      ],
      "metadata": {
        "id": "fNZWSqm3ETJD"
      },
      "execution_count": null,
      "outputs": []
    }
  ]
}